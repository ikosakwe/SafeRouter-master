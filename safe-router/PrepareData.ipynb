{
 "cells": [
  {
   "cell_type": "code",
   "execution_count": 1,
   "metadata": {},
   "outputs": [],
   "source": [
    "import json"
   ]
  },
  {
   "cell_type": "code",
   "execution_count": null,
   "metadata": {},
   "outputs": [],
   "source": [
    "''' We write a query to query the openstreetmaps api for all roads within a given bounding box.\n",
    "The bounding box we have given is restricted only to all of melbourne'''\n",
    "\n",
    "!curl --globoff 'http://overpass-api.de/api/interpreter?[out:json];\\\n",
    "(way[\"highway\"~\"motorway|motorway_link|trunk|trunk_link|primary|primary_link|secondary|secondary_link|tertiary|tertiary_link|unclassified|unclassified_link|residential|residential_link|living_street\"]\\\n",
    "(-38.5632,143.9236,-37.3396,146.7142););(._;node(w););out;' >> interpreter.json\n",
    "\n",
    "with open(\"interpreter.json\",\"r+\") as content:\n",
    "    data = json.load(content)"
   ]
  },
  {
   "cell_type": "code",
   "execution_count": 2,
   "metadata": {},
   "outputs": [],
   "source": [
    "# get all nodes\n",
    "node_list = [ el for el in data[\"elements\"] if el[\"type\"]==\"node\"]\n",
    "\n",
    "# get all ways\n",
    "way_list = [ el for el in data[\"elements\"] if el[\"type\"]==\"way\"]\n",
    "\n",
    "# dict of coordinates for each node\n",
    "coords = { el[\"id\"]:(el[\"lon\"],el[\"lat\"]) for el in node_list}\n",
    "\n",
    "del data , node_list"
   ]
  },
  {
   "cell_type": "markdown",
   "metadata": {},
   "source": [
    "The code below allows us to get all nodes we can directly reach from a particular node. "
   ]
  },
  {
   "cell_type": "code",
   "execution_count": 7,
   "metadata": {},
   "outputs": [],
   "source": [
    "state_actions = dict()\n",
    "\n",
    "for element in way_list:\n",
    "    nodes = element[\"nodes\"]\n",
    "    nodes = [coords[x] for x in nodes]\n",
    "\n",
    "\n",
    "    tags = element[\"tags\"]\n",
    "    n = len(nodes) \n",
    "    # if one way we only add node a >> node b\n",
    "    if \"oneway\" in tags.keys() and tags[\"oneway\"]==\"yes\":\n",
    "        for i in range(n-1):\n",
    "            if nodes[i] in state_actions.keys():\n",
    "                state_actions[ nodes[i] ].append(nodes[i+1])\n",
    "            else:\n",
    "                state_actions[ nodes[i] ] = [nodes[i+1]]\n",
    "    # if not one way we add node a >> node b and node b >> node a\n",
    "    else:\n",
    "        for i in range(n-1):\n",
    "            if nodes[i] in state_actions.keys():\n",
    "                state_actions[ nodes[i] ].append(nodes[i+1])\n",
    "            else:\n",
    "                state_actions[ nodes[i] ] = [nodes[i+1]]\n",
    "            if nodes[i+1] in state_actions.keys():\n",
    "                state_actions[ nodes[i+1] ].append(nodes[i])\n",
    "            else:\n",
    "                state_actions[ nodes[i+1] ] = [nodes[i]]"
   ]
  },
  {
   "cell_type": "code",
   "execution_count": 9,
   "metadata": {},
   "outputs": [],
   "source": [
    "# save the output\n",
    "s_a = { str(k):v for k,v in state_actions.items()}\n",
    "with open('state_action.json','w') as out:\n",
    "    json.dump(s_a,out)"
   ]
  }
 ],
 "metadata": {
  "kernelspec": {
   "display_name": "Python 3",
   "language": "python",
   "name": "python3"
  },
  "language_info": {
   "codemirror_mode": {
    "name": "ipython",
    "version": 3
   },
   "file_extension": ".py",
   "mimetype": "text/x-python",
   "name": "python",
   "nbconvert_exporter": "python",
   "pygments_lexer": "ipython3",
   "version": "3.7.3"
  }
 },
 "nbformat": 4,
 "nbformat_minor": 2
}
