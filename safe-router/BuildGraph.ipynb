{
 "cells": [
  {
   "cell_type": "code",
   "execution_count": 1,
   "metadata": {},
   "outputs": [
    {
     "name": "stderr",
     "output_type": "stream",
     "text": [
      "/home/ikenna/anaconda3/lib/python3.7/site-packages/graph_tool/draw/cairo_draw.py:1494: RuntimeWarning: Error importing Gtk module: No module named 'gi'; GTK+ drawing will not work.\n",
      "  warnings.warn(msg, RuntimeWarning)\n"
     ]
    }
   ],
   "source": [
    "import pandas as pd \n",
    "import ast\n",
    "import json\n",
    "from graph_tool.all import *\n",
    "import numpy as np\n",
    "import geopy.distance as gp\n",
    "\n"
   ]
  },
  {
   "cell_type": "markdown",
   "metadata": {},
   "source": [
    "## In this program, we convert data of  nodes and actions into a graph. The graph will be used to build the routing algorithm"
   ]
  },
  {
   "cell_type": "code",
   "execution_count": null,
   "metadata": {},
   "outputs": [],
   "source": [
    "# read in data\n",
    "with open(\"state_action.json\",\"r+\") as content:\n",
    "    ways = json.load(content)\n",
    "    ways = {ast.literal_eval(k):v for k,v in ways.items() }"
   ]
  },
  {
   "cell_type": "code",
   "execution_count": null,
   "metadata": {},
   "outputs": [],
   "source": [
    "df = pd.read_csv(\"safety_data.csv\", names=[\"ratings\",\"scores\",\"voice_info\",\"lon\",\"lat\"])\n",
    "\n",
    "# get ratings of coordinates\n",
    "def get_rating(point,data=df[[\"lon\",\"lat\"]].to_numpy(),rating=df.ratings):\n",
    "    diff = np.hypot(*(data - point).T)\n",
    "    index =  np.argmin(diff)\n",
    "    return rating[index]\n",
    "\n",
    "# distance between 2 coordinates\n",
    "def get_distance(x,y):\n",
    "    p1 = (x[1],x[0])\n",
    "    p2 = (y[1],y[0])\n",
    "    return gp.distance(p1,p2).km"
   ]
  },
  {
   "cell_type": "code",
   "execution_count": 45,
   "metadata": {},
   "outputs": [],
   "source": [
    "# get a set of all nodes\n",
    "nodes = set()\n",
    "for v in ways.values():\n",
    "    v = [ tuple(el) for el in v]\n",
    "    nodes.update(v)\n",
    "nodes.update(ways.keys())"
   ]
  },
  {
   "cell_type": "code",
   "execution_count": 46,
   "metadata": {},
   "outputs": [],
   "source": [
    "# construct graph and graph properties\n",
    "g = Graph()\n",
    "coord = g.new_vertex_property(\"vector<double>\")\n",
    "weight = g.new_edge_property(\"float\")"
   ]
  },
  {
   "cell_type": "code",
   "execution_count": 47,
   "metadata": {},
   "outputs": [],
   "source": [
    "# keep track of nodes we have encountered before\n",
    "# counter was much faster than always searching for node within graph\n",
    "counter = {k:0 for k in nodes}\n",
    "\n",
    "vert_dict=dict() # dictionary of vertex id for each point\n",
    "point_list = list(ways.keys())\n",
    "\n",
    "for i in range(len(point_list)):\n",
    "    #for each nodes get the reachable nodes, add them to graph, and draw an edge between them\n",
    "    point1 = point_list[i]\n",
    "    for point2 in ways[point1]:\n",
    "        point2 = tuple(point2)\n",
    "        \n",
    "        # we assign the weight to edges by looking at the distance and safety rating\n",
    "        # we want least safe roads to have harshest penalties\n",
    "        distance = get_distance(point1,point2)\n",
    "        rating = get_rating(point1)\n",
    "        # we want to avoid the highest risks ig possible\n",
    "        if rating>2:\n",
    "            r = rating**2\n",
    "            w = distance*r\n",
    "            # for medium risks we have a much lighter penalty\n",
    "        elif rating == 2:\n",
    "            r = rating**0.5\n",
    "            w = distance* r\n",
    "        else:\n",
    "            r = rating\n",
    "            w = distance*r\n",
    "          \n",
    "        \n",
    "        # if we have note encountered node before, create a vertex, add to vertex dictionary and add node property\n",
    "        if counter[point1]==0:\n",
    "            u = g.add_vertex()\n",
    "            vert_dict[point1] = u\n",
    "            counter[point1] = 1\n",
    "            coord[u] = point1\n",
    "        # retrieve vertex id\n",
    "        else:\n",
    "            u = vert_dict[point1]\n",
    "            \n",
    "        # if we have note encountered node before, create a vertex, add to vertex dictionary and add node property\n",
    "        if counter[point2]==0:\n",
    "            v = g.add_vertex()\n",
    "            vert_dict[point2] = v\n",
    "            coord[v] = point2\n",
    "            counter[point2] = 1\n",
    "        # retrieve vertex id\n",
    "        else:\n",
    "            v = vert_dict[point2]      \n",
    "        \n",
    "        \n",
    "        # add edge\n",
    "        e = g.add_edge(u,v)\n",
    "        # add weight to edge\n",
    "        weight[e] = w  \n",
    "        \n",
    "# assign graph properties        \n",
    "g.vertex_properties[\"coord\"] = coord\n",
    "g.edge_properties[\"weight\"] = weight\n",
    "        "
   ]
  },
  {
   "cell_type": "code",
   "execution_count": 49,
   "metadata": {},
   "outputs": [],
   "source": [
    "# save output\n",
    "g.save(\"my_graph.xml.gz\")"
   ]
  }
 ],
 "metadata": {
  "kernelspec": {
   "display_name": "Python 3",
   "language": "python",
   "name": "python3"
  },
  "language_info": {
   "codemirror_mode": {
    "name": "ipython",
    "version": 3
   },
   "file_extension": ".py",
   "mimetype": "text/x-python",
   "name": "python",
   "nbconvert_exporter": "python",
   "pygments_lexer": "ipython3",
   "version": "3.7.3"
  }
 },
 "nbformat": 4,
 "nbformat_minor": 2
}
