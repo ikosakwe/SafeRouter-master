{
 "cells": [
  {
   "cell_type": "markdown",
   "metadata": {},
   "source": [
    "# The purpose of this program is to create safety scores, safety ratings, and accident information for crashes in Melbourne\n"
   ]
  },
  {
   "cell_type": "markdown",
   "metadata": {},
   "source": [
    "##  Reading in data and preprocessing"
   ]
  },
  {
   "cell_type": "code",
   "execution_count": 1,
   "metadata": {},
   "outputs": [
    {
     "name": "stderr",
     "output_type": "stream",
     "text": [
      "\n",
      "Attaching package: ‘dplyr’\n",
      "\n",
      "The following objects are masked from ‘package:stats’:\n",
      "\n",
      "    filter, lag\n",
      "\n",
      "The following objects are masked from ‘package:base’:\n",
      "\n",
      "    intersect, setdiff, setequal, union\n",
      "\n",
      "Loading required package: Matrix\n",
      "Loading required package: foreach\n",
      "Loaded glmnet 2.0-16\n",
      "\n",
      "hash-2.2.6.1 provided by Decision Patterns\n",
      "\n"
     ]
    }
   ],
   "source": [
    "library(reshape2)\n",
    "library(dplyr)\n",
    "library(hash)"
   ]
  },
  {
   "cell_type": "code",
   "execution_count": 1,
   "metadata": {},
   "outputs": [],
   "source": [
    "crashes=read.csv(\"Crashes_Last_Five_Years.csv\", stringsAsFactors = FALSE)"
   ]
  },
  {
   "cell_type": "markdown",
   "metadata": {},
   "source": [
    "To get the safety rating of each road, we look at the total cost to society, including average cost of damge to vehicles, cost of a fatality, cost of a serious injury and so on. All figures were sourced from the article below:\n",
    "\n",
    "https://www.aaa.asn.au/wp-content/uploads/2018/03/AAA-National-Road-Safety-Platform_Sep-2017.pdf"
   ]
  },
  {
   "cell_type": "code",
   "execution_count": 2,
   "metadata": {},
   "outputs": [],
   "source": [
    "crashes$FATALITY = crashes$FATALITY*4.339\n",
    "crashes$SERIOUSINJURY = crashes$SERIOUSINJURY*0.239\n",
    "crashes$OTHERINJURY = crashes$OTHERINJURY*0.012\n",
    "crashes$NONINJURED = 0.003*crashes$NO_OF_VEHICLES\n",
    "crashes$COST = crashes$FATALITY + crashes$SERIOUSINJURY + crashes$OTHERINJURY + crashes$NONINJURED\n",
    "\n",
    "names(crashes) = tolower(names(crashes))\n"
   ]
  },
  {
   "cell_type": "code",
   "execution_count": 7,
   "metadata": {},
   "outputs": [],
   "source": [
    "# get the roads for accidents\n",
    "crashes$road = (paste(crashes$road_name,crashes$road_name_int, sep = \",\"))\n",
    "crashes$road = (trimws(crashes$road))\n",
    "crashes = crashes[crashes$road!=\",\",] \n",
    "\n",
    "# get accident roads for meblourne\n",
    "melbs = crashes[crashes$deg_urban_name %in% c('MELB_URBAN', 'MELBOURNE_CBD'),]"
   ]
  },
  {
   "cell_type": "code",
   "execution_count": 5,
   "metadata": {},
   "outputs": [],
   "source": [
    "# get year of crashes\n",
    "get_year= function (value) {\n",
    "    name = as.character(value)\n",
    "    digits = unlist(strsplit(name, \"/\"))\n",
    "    return (as.numeric(digits[3]))\n",
    "}\n",
    "\n",
    "crashes$year = as.numeric(unlist(lapply(crashes$accidentdate,get_year)))\n"
   ]
  },
  {
   "cell_type": "markdown",
   "metadata": {},
   "source": [
    "## Scoring and Rating"
   ]
  },
  {
   "cell_type": "markdown",
   "metadata": {},
   "source": [
    "With all the preprocessing finished, we have to get the costs for each road in 2018. WWe use these score roads (1-100), and assign a rating (1-3)."
   ]
  },
  {
   "cell_type": "code",
   "execution_count": 8,
   "metadata": {},
   "outputs": [],
   "source": [
    "# get road costs by year\n",
    "yearly = crashes %>% group_by(road,year) %>% summarise(cost =sum(cost))\n",
    "\n",
    "# get road costs in 2018 only\n",
    "x2018 = yearly %>% filter (year==2018) \n",
    "\n",
    "# for other roads which did not have a crash in 2018, we add them, and assign a cost of zero\n",
    "roads =  crashes %>% group_by(road)%>% summarise(cost = 0)\n",
    "all2018 = merge(roads,x2018, by=c(\"road\"),all.x=TRUE)\n",
    "all2018[is.na(all2018$cost.y),\"cost.y\"]=0\n",
    "\n",
    "all2018$year = 2018"
   ]
  },
  {
   "cell_type": "markdown",
   "metadata": {},
   "source": [
    "To assign a score to each road, we find the quantile of each cost greater than zero and multiply by 100. \n",
    "Costs of zero are automatically assigned a score of 1."
   ]
  },
  {
   "cell_type": "code",
   "execution_count": 12,
   "metadata": {},
   "outputs": [],
   "source": [
    "riskier = all2018[(all2018$cost.y>0),]\n",
    "\n",
    "get_percentile = ecdf(riskier$cost.y)\n",
    "assign_score = function (cost){\n",
    "    value = get_percentile(cost)\n",
    "    value = if (value == 0) 1 else value*100\n",
    "    \n",
    "    return (value)\n",
    "}\n",
    "\n",
    "all2018$score = as.numeric(unlist(lapply(all2018$cost.y,assign_score)))"
   ]
  },
  {
   "cell_type": "markdown",
   "metadata": {},
   "source": [
    "Once roads, are scored we can assign a rating. We decided to use 70 and 95 as boundaries for the ratings."
   ]
  },
  {
   "cell_type": "code",
   "execution_count": 13,
   "metadata": {},
   "outputs": [],
   "source": [
    "get_rating = function (score){\n",
    "   \n",
    "    val = 3\n",
    "\n",
    "    if (score<=70){\n",
    "        val = 1\n",
    "\n",
    "    }\n",
    "    if (score >70 & score<=95){\n",
    "        val = 2\n",
    "    }\n",
    "            \n",
    "    return (val)\n",
    "}\n",
    "all2018$rating = as.numeric(unlist(lapply(all2018$score,get_rating)))\n",
    "\n",
    "# get only roads in melbourne\n",
    "melbs = merge(melbs,all2018,by = c('road'), all.x = TRUE)"
   ]
  },
  {
   "cell_type": "markdown",
   "metadata": {},
   "source": [
    "##  Voice Alert Information\n",
    "\n",
    "For voice alerts, we provide drive with the accident type description and road geometry."
   ]
  },
  {
   "cell_type": "code",
   "execution_count": 14,
   "metadata": {},
   "outputs": [],
   "source": [
    "# melbs data for 2018 only\n",
    "current = melbs[melbs$year.x==2018,]\n",
    "\n",
    "# get the most frequent descriptions and road geometry per road\n",
    "accident_type_info = current %>% group_by(road) %>% count(accident.type.desc) %>% top_n(1) %>% distinct(road,n, .keep_all= TRUE) %>% select(c(road,accident.type.desc))\n",
    "road_geom_info = current %>% group_by(road) %>% count(road.geometry.desc) %>% top_n(1) %>% distinct(road,n, .keep_all= TRUE) %>% select(c(road,road.geometry.desc))"
   ]
  },
  {
   "cell_type": "code",
   "execution_count": 17,
   "metadata": {},
   "outputs": [],
   "source": [
    "# create a dictionary of road to info and road geometry\n",
    "create_dict = function(df){\n",
    "    h = hash() \n",
    "    for (i in 1:nrow(df)){\n",
    "        key = df[i,1][[1]]\n",
    "        val = df[i,2][[1]]\n",
    "        h[[key]] = val\n",
    "    }\n",
    "    return(h)\n",
    "} \n",
    "accident_type_dict = create_dict(accident_type_info)\n",
    "road_geom_dict = create_dict(road_geom_info)"
   ]
  },
  {
   "cell_type": "code",
   "execution_count": 18,
   "metadata": {},
   "outputs": [],
   "source": [
    "# create the information for voice alerts\n",
    "create_voice_info = function(road){  \n",
    "    accident_type = accident_type_dict[[road]]\n",
    "    road_geom = road_geom_dict[[road]]\n",
    "   \n",
    "    \n",
    "    \n",
    "    if (accident_type == \"Collision with vehicle\"){\n",
    "        accident_type = \"high vehicle collisions\"\n",
    "    }\n",
    "    else if (accident_type == \"Struck Pedestrian\"){\n",
    "        accident_type = \"high struck pedestrians\"\n",
    "    }\n",
    "    else if (accident_type == \"Struck animal\"){\n",
    "        accident_type = \"high struck animals\"\n",
    "    }\n",
    "    else if (accident_type == \"Collision with a fixed object\"){\n",
    "        accident_type = \"high object collision\"\n",
    "    }\n",
    "    else{\n",
    "        accident_type = \"high risk\"\n",
    "    }\n",
    "    \n",
    "    if (road_geom %in% c(\"Not at intersection\", \"Unknown\", \"Road closure\", \"Road closure'\")){\n",
    "        road_geom = \"road\"\n",
    "    }\n",
    "    return ( paste(accident_type, \"at\" , road_geom))\n",
    "}\n",
    "\n",
    "current$voice_info = unlist(lapply(current$road,create_voice_info))\n",
    "road_acc_info_2018 = current %>% distinct(road,voice_info) "
   ]
  },
  {
   "cell_type": "code",
   "execution_count": 21,
   "metadata": {},
   "outputs": [],
   "source": [
    "# get voice info for all roads in melbourne. roads without crashes have \"None\" as information\n",
    "new_all = merge(melbs,road_acc_info_2018,by =  c('road'), all.x = TRUE)\n",
    "new_all[is.na(new_all$voice_info),\"voice_info\"]=\"None\"\n",
    "\n",
    "data = new_all[,c(\"rating\",\"score\",\"voice_info\",\"x\",\"y\")]\n",
    "\n",
    "# risky roads which were missing info are assigned\n",
    "data[data$voice_info==\"None\" & data$rating==3,\"voice_info\"] = \"high risk at road\""
   ]
  },
  {
   "cell_type": "code",
   "execution_count": null,
   "metadata": {},
   "outputs": [],
   "source": [
    "# write data\n",
    "write.table(data, file = \"safety_data.csv\", sep=\",\",  col.names=FALSE, row.names = FALSE)"
   ]
  },
  {
   "cell_type": "markdown",
   "metadata": {},
   "source": [
    "------"
   ]
  }
 ],
 "metadata": {
  "kernelspec": {
   "display_name": "R",
   "language": "R",
   "name": "ir"
  },
  "language_info": {
   "codemirror_mode": "r",
   "file_extension": ".r",
   "mimetype": "text/x-r-source",
   "name": "R",
   "pygments_lexer": "r",
   "version": "3.6.1"
  }
 },
 "nbformat": 4,
 "nbformat_minor": 2
}
